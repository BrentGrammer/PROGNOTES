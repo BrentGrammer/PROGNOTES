{
 "cells": [
  {
   "cell_type": "code",
   "execution_count": 5,
   "metadata": {},
   "outputs": [
    {
     "name": "stdout",
     "output_type": "stream",
     "text": [
      "6\n",
      "1\n",
      "4\n",
      "3\n"
     ]
    },
    {
     "data": {
      "text/plain": [
       "[0, 1]"
      ]
     },
     "execution_count": 5,
     "metadata": {},
     "output_type": "execute_result"
    }
   ],
   "source": [
    "def twoSum(nums, target):\n",
    "    for idx, n in enumerate(nums):\n",
    "        diff = target - n\n",
    "        print(diff)\n",
    "        rem = nums.pop(idx)\n",
    "        print(rem)\n",
    "        if diff in nums:\n",
    "            return [idx-1,nums.index(diff)+1]\n",
    "\n",
    "twoSum([1,4,3], 7)"
   ]
  },
  {
   "cell_type": "code",
   "execution_count": 23,
   "metadata": {},
   "outputs": [
    {
     "name": "stdout",
     "output_type": "stream",
     "text": [
      "['aet', 'aet', 'ant', 'aet', 'ant', 'abt']\n",
      "[['eat', 'tea', 'ate'], ['tan', 'nat'], ['bat']]\n"
     ]
    }
   ],
   "source": [
    "def groupAnagrams(strs):\n",
    "    # convert to list so we can iterate over without consuming (map returns a consumable structure that is exhausted after iteration via enumerate)\n",
    "    sortedstrs = list(map(lambda x: ''.join(sorted(x)), strs))\n",
    "    matches = []\n",
    "    visited = []\n",
    "\n",
    "    for i,s in enumerate(sortedstrs):\n",
    "        if i in visited:\n",
    "            continue\n",
    "\n",
    "        loopmatches = [strs[i]]\n",
    "\n",
    "        for sorti, sortd in enumerate(sortedstrs):\n",
    "            if s == sortd and i != sorti:\n",
    "                visited.append(sorti)\n",
    "                loopmatches.append(strs[sorti])\n",
    "            \n",
    "        matches.append(loopmatches)\n",
    "    \n",
    "    return matches\n",
    "\n",
    "strs = [\"eat\",\"tea\",\"tan\",\"ate\",\"nat\",\"bat\"]\n",
    "matches = groupAnagrams(strs)\n",
    "print(matches)"
   ]
  },
  {
   "cell_type": "code",
   "execution_count": 34,
   "metadata": {},
   "outputs": [
    {
     "name": "stdout",
     "output_type": "stream",
     "text": [
      "[4, 3, 1, 2]\n"
     ]
    }
   ],
   "source": [
    "d = {1: 2, 2: 1, 3: 4, 4: 11}\n",
    "\n",
    "n = [i[0] for i in sorted(d.items(), key=lambda x: x[1], reverse=True)]\n",
    "print(n)"
   ]
  },
  {
   "cell_type": "code",
   "execution_count": 22,
   "metadata": {},
   "outputs": [
    {
     "name": "stdout",
     "output_type": "stream",
     "text": [
      "n=1\n",
      "index = 0, index of x: 0\n",
      "len is 0\n",
      "n=1\n",
      "index = 1, index of x: 0\n",
      "prod=1\n",
      "[0, 1]\n"
     ]
    }
   ],
   "source": [
    "from functools import reduce\n",
    "\n",
    "def productExceptSelf(nums):\n",
    "    prods = []\n",
    "    for i,n in enumerate(nums):\n",
    "        print(f'{n=}')\n",
    "        print(f'index = {i}, index of x: {nums.index(n)}')\n",
    "        ns = list(filter(lambda x: nums.index(x) != i, nums))\n",
    "    \n",
    "        if len(ns) == 0:\n",
    "            print('len is 0')\n",
    "            prod = 0\n",
    "            prods.append(prod)\n",
    "            continue\n",
    "    \n",
    "\n",
    "        prod = reduce(lambda x,y: x*y, ns)\n",
    "        print(f'{prod=}')\n",
    "\n",
    "        prods.append(prod)\n",
    "    return prods\n",
    "\n",
    "print(productExceptSelf([1,1]))"
   ]
  },
  {
   "cell_type": "code",
   "execution_count": 23,
   "metadata": {},
   "outputs": [
    {
     "name": "stdout",
     "output_type": "stream",
     "text": [
      "[24, 12, 8, 6]\n"
     ]
    }
   ],
   "source": [
    "# O(n) time and O(1) space\n",
    "# Main idea is to get numbers before and after the current index in nums (use prefix product and postfix product and then multiply them together)\n",
    "\n",
    "def productExceptSelf(nums):\n",
    "    # to get O(n) time we can use two for loops (O(2n) == O(n))\n",
    "    res = [1] * len(nums) # initialize results to length of the list passed in\n",
    "    # we will use this results list to store prefixes (product before current i) on one pass and then reverse pass on nums to get the postfix (after current i) and multiply that by the prefixes\n",
    "    \n",
    "    prefix = 1 # initialize prefix (for first prefix product we use 1 since there is nothing before the first entry in nums)\n",
    "    # get prefixes to the current index (the product of all numbers before the current index)\n",
    "    for i in range(len(nums)):\n",
    "        res[i] = prefix # assign the prefix product to the current index and save it\n",
    "        prefix *= nums[i] # get product of prefix so far and mult by current number to get and store the prefix product for the next index\n",
    "    # now get postfixes by iterating from the end of nums and multiply it by the saved prefix products in results list\n",
    "    postfix = 1 # init to 1 since there is nothing after the last index, this will get updated as we walk backwards in nums\n",
    "    for i in range(len(nums)-1,-1,-1):\n",
    "        # we multiply the postfix products by starting at end and go backwards to get products after i stored\n",
    "        res[i] *= postfix # multiply the stored prefix (product of nums before i) by the current postfix to get products for that index (excl. index)\n",
    "        postfix *= nums[i]\n",
    "    \n",
    "    return res\n",
    "\n",
    "print(productExceptSelf([1,2,3,4]))"
   ]
  },
  {
   "cell_type": "code",
   "execution_count": 70,
   "metadata": {},
   "outputs": [
    {
     "name": "stdout",
     "output_type": "stream",
     "text": [
      "True\n"
     ]
    }
   ],
   "source": [
    "from pprint import pprint\n",
    "import collections\n",
    "\n",
    "\n",
    "# iterate over entire board, use a hashmap set to check if numbers are repeated\n",
    "# store the seen values in a set in a hashmap for rows, columns and 3x3 squares to check against\n",
    "# for 3x3 key is to divide the row or col index by 3 to convert to a coordinate of 0-2 to determine square\n",
    "\n",
    "def isValidSoduku(board):\n",
    "    cols = collections.defaultdict(set)\n",
    "    rows = collections.defaultdict(set)\n",
    "    squares = collections.defaultdict(set)\n",
    "    dims = len(board)\n",
    "\n",
    "    for r in range(dims):\n",
    "        for c in range(dims):\n",
    "            val = board[r][c]\n",
    "            if val == '.':\n",
    "                continue # empty slot, just go to next iter\n",
    "\n",
    "            if (val in cols[c] or \n",
    "                val in rows[r] or \n",
    "                val in squares[r // 3,c // 3]): # convert row col coords to between 0-2 to represent a square coordinate (9 squares possible)\n",
    "                return False # repeated numbers, board is invalid\n",
    "            \n",
    "            # store seen numbers in hash sets\n",
    "            cols[c].add(val)\n",
    "            rows[r].add(val)\n",
    "            squares[r // 3,c // 3].add(val)\n",
    "\n",
    "    return True # no repeated numbers, did not return so board is valid\n",
    "            \n",
    "\n",
    "b = [[\"5\",\"3\",\".\",\".\",\"7\",\".\",\".\",\".\",\".\"]\n",
    ",[\"6\",\".\",\".\",\"1\",\"9\",\"5\",\".\",\".\",\".\"]\n",
    ",[\".\",\"9\",\"8\",\".\",\".\",\".\",\".\",\"6\",\".\"]\n",
    ",[\"8\",\".\",\".\",\".\",\"6\",\".\",\".\",\".\",\"3\"]\n",
    ",[\"4\",\".\",\".\",\"8\",\".\",\"3\",\".\",\".\",\"1\"]\n",
    ",[\"7\",\".\",\".\",\".\",\"2\",\".\",\".\",\".\",\"6\"]\n",
    ",[\".\",\"6\",\".\",\".\",\".\",\".\",\"2\",\"8\",\".\"]\n",
    ",[\".\",\".\",\".\",\"4\",\"1\",\"9\",\".\",\".\",\"5\"]\n",
    ",[\".\",\".\",\".\",\".\",\"8\",\".\",\".\",\"7\",\"9\"]]\n",
    "\n",
    "# print('b')\n",
    "# pprint(b[0:3])\n",
    "\n",
    "# print('\\n')\n",
    "\n",
    "# pprint(b[0:3][0][0:3])\n",
    "# pprint(b[0:3][1][0:3])\n",
    "# pprint(b[0:3][2][0:3])\n",
    "# print('\\n')\n",
    "\n",
    "# pprint(b[0:3][0][3:3+3])\n",
    "# pprint(b[0:3][1][3:3+3])\n",
    "# pprint(b[0:3][2][3:3+3])\n",
    "# print('\\n')\n",
    "\n",
    "# pprint(b[0:3][0][6:9])\n",
    "# pprint(b[0:3][1][6:9])\n",
    "# pprint(b[0:3][2][6:9])\n",
    "\n",
    "# print('\\n')\n",
    "# pprint(b[3:6])\n",
    "# print('\\n')\n",
    "\n",
    "\n",
    "# pprint(b[3:6][0][0:3])\n",
    "# pprint(b[3:6][1][0:3])\n",
    "# pprint(b[3:6][2][0:3])\n",
    "# print('\\n')\n",
    "\n",
    "# pprint(b[3:6][0][3:3+3])\n",
    "# pprint(b[3:6][1][3:3+3])\n",
    "# pprint(b[3:6][2][3:3+3])\n",
    "# print('\\n')\n",
    "\n",
    "# pprint(b[3:6][0][6:9])\n",
    "# pprint(b[3:6][1][6:9])\n",
    "# pprint(b[3:6][2][6:9])\n",
    "\n",
    "# print('\\n')\n",
    "# pprint(b[6:9])\n",
    "\n",
    "# print('\\n')\n",
    "# pprint(b[6:9][0][0:3])\n",
    "# pprint(b[6:9][1][0:3])\n",
    "# pprint(b[6:9][2][0:3])\n",
    "# print('\\n')\n",
    "\n",
    "# pprint(b[6:9][0][3:3+3])\n",
    "# pprint(b[6:9][1][3:3+3])\n",
    "# pprint(b[6:9][2][3:3+3])\n",
    "# print('\\n')\n",
    "\n",
    "# pprint(b[6:9][0][6:9])\n",
    "# pprint(b[6:9][1][6:9])\n",
    "# pprint(b[6:9][2][6:9])\n",
    "\n",
    "\n",
    "print(isValidSoduku(b))"
   ]
  },
  {
   "cell_type": "code",
   "execution_count": 36,
   "metadata": {},
   "outputs": [
    {
     "name": "stdout",
     "output_type": "stream",
     "text": [
      "1#a2#bc\n",
      "\n",
      "iteration ====================\n",
      "i=0 strlen: 7\n",
      "j=0\n",
      "j, the idx of the delim is: 1\n",
      "j=1 length=1, j+1+len = 3\n",
      "appending from idx 2 to 3\n",
      "\n",
      "iteration ====================\n",
      "i=3 strlen: 7\n",
      "j=3\n",
      "j, the idx of the delim is: 4\n",
      "j=4 length=2, j+1+len = 7\n",
      "appending from idx 5 to 7\n",
      "\n",
      "does it work? True\n"
     ]
    }
   ],
   "source": [
    "\n",
    "\n",
    "originalinput = ['a','bc']\n",
    "def encode(strs):\n",
    "    delim = '#'\n",
    "    encoded = \"\".join([f'{len(word)}{delim}{word}' for word in strs])\n",
    "    return encoded\n",
    "\n",
    "encoded = encode(originalinput)\n",
    "print(encoded)\n",
    "\n",
    "def decode(str):\n",
    "    # keep track of the built up string\n",
    "    decoded, i = [], 0 # start at index 0, pointer to where we are in the string as we parse complete words (when to start parsing the next word)\n",
    "    # loop over beginning word points until they exceed the length of the string\n",
    "    while i < len(str):\n",
    "        print('\\niteration ====================')\n",
    "        print(f'{i=} strlen: {len(str)}')\n",
    "        j = i # update j to be start of encoded entry\n",
    "        print(f'{j=}')\n",
    "        # getting word length:\n",
    "        while str[j] != '#': # find the part of entry up to the delimiter to get word length number\n",
    "            j += 1 # getting number of chars that represent word length number\n",
    "        print(f'j, the idx of the delim is: {j}')\n",
    "        # now j is the index after the number of length of the word (the index directly at the delim #)\n",
    "        length = int(str[i:j]) # parse length and convert to integer, j is the index at # and excl here.\n",
    "        print(f'{j=} {length=}, j+1+len = {j+1+length}')\n",
    "        print(f'appending from idx {j+1} to {j+1+length}')\n",
    "        decoded.append(str[j + 1 : j + 1 + length]) # j+1 is the idx after the delim idx, \n",
    "        # update i to represent the start of the next entry to decode\n",
    "        i = j + 1 + length\n",
    "        \n",
    "    return decoded\n",
    "\n",
    "decoded = decode(encoded)\n",
    "print(f'\\ndoes it work? {decoded == originalinput}')"
   ]
  },
  {
   "cell_type": "code",
   "execution_count": null,
   "metadata": {},
   "outputs": [],
   "source": []
  }
 ],
 "metadata": {
  "kernelspec": {
   "display_name": "base",
   "language": "python",
   "name": "python3"
  },
  "language_info": {
   "codemirror_mode": {
    "name": "ipython",
    "version": 3
   },
   "file_extension": ".py",
   "mimetype": "text/x-python",
   "name": "python",
   "nbconvert_exporter": "python",
   "pygments_lexer": "ipython3",
   "version": "3.8.18"
  }
 },
 "nbformat": 4,
 "nbformat_minor": 2
}
