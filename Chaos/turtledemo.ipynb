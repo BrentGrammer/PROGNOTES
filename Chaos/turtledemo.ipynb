{
 "cells": [
  {
   "cell_type": "code",
   "execution_count": 2,
   "metadata": {},
   "outputs": [],
   "source": [
    "# import turtle\n",
    "from turtle import * # allows you to omit turtle. in front of all the methods\n",
    "\n",
    "# This is needed to prevent terminator error every other run (exit on click turns this builtin to False causing a problem for some reason)\n",
    "TurtleScreen._RUNNING=True\n",
    "# note before running place cursor in IDE at end of cell (otherwise terminator error - why?)\n",
    "# draw a shape\n",
    "# Cursor starts at 0,0 in the middle of the canvas facing to the right\n",
    "speed(0) # sets to fastest drawing speed\n",
    "pensize(5)\n",
    "\n",
    "forward(300)\n",
    "\n",
    "# relative to the current cursor direction/facing this will turn it x degrees to the left:\n",
    "\n",
    "left(120)\n",
    "\n",
    "# Now we can draw a line in the direction the turtle is facing\n",
    "\n",
    "forward(300)\n",
    "\n",
    "left(120)\n",
    "\n",
    "backward(300)\n",
    "\n",
    "Screen().exitonclick()\n"
   ]
  },
  {
   "cell_type": "code",
   "execution_count": null,
   "metadata": {},
   "outputs": [],
   "source": []
  }
 ],
 "metadata": {
  "kernelspec": {
   "display_name": "pytorch2023",
   "language": "python",
   "name": "python3"
  },
  "language_info": {
   "codemirror_mode": {
    "name": "ipython",
    "version": 3
   },
   "file_extension": ".py",
   "mimetype": "text/x-python",
   "name": "python",
   "nbconvert_exporter": "python",
   "pygments_lexer": "ipython3",
   "version": "3.10.13"
  }
 },
 "nbformat": 4,
 "nbformat_minor": 2
}
