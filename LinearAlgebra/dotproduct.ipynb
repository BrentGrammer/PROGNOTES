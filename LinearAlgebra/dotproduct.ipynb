{
 "cells": [
  {
   "cell_type": "code",
   "execution_count": 1,
   "metadata": {},
   "outputs": [
    {
     "name": "stdout",
     "output_type": "stream",
     "text": [
      "32 32 32 32\n"
     ]
    }
   ],
   "source": [
    "################## THE DOT PRODUCT ####################\n",
    "import numpy as np\n",
    "import matplotlib.pyplot as plt  \n",
    "\n",
    "# vectors:\n",
    "v1 = np.array([ 1,2,3,4,5 ])\n",
    "v2 = np.array([ 0,-4,-3,6,5 ])\n",
    "\n",
    "# there are 4+ ways to implement the computation\n",
    "\n",
    "dp1 = sum(np.multiply(v1,v2)) # direct impl, elementwise mult and sum it all\n",
    "\n",
    "# Recommended implementation in practice:\n",
    "dp2 = np.dot(v1,v2) # use np.dot() method \n",
    "\n",
    "dp3 = np.matmul(v1,v2) # matrix multiplication\n",
    "\n",
    "# method 4 - loop version - not done in practice, for demo purposes only\n",
    "dp4 = 0 # initialize\n",
    "# loop over els\n",
    "for i in range(0,len(v1)):\n",
    "    dp4 = dp4 + v1[i]*v2[i] # mult and add up in the loop\n",
    "\n",
    "print(dp1,dp2,dp3,dp4) # 32 for all cases"
   ]
  },
  {
   "cell_type": "code",
   "execution_count": 2,
   "metadata": {},
   "outputs": [
    {
     "name": "stdout",
     "output_type": "stream",
     "text": [
      "[-3.7796656254578496, -3.77966562545785]\n"
     ]
    }
   ],
   "source": [
    "########### PROPERTIES OF THE DOT PRODUCT ###############\n",
    "\n",
    "### The Distributive Property\n",
    "\n",
    "# create 3 random vectors\n",
    "n = 10 # dimension 10\n",
    "a = np.random.randn(n) # n is how many random nums to generate in an array\n",
    "b = np.random.randn(n)\n",
    "c = np.random.randn(n)\n",
    "\n",
    "res1 = np.dot( a, (b+c) ) # a * (b+c)\n",
    "res2 = np.dot(a,b) + np.dot(a,c) # ab + ac\n",
    "\n",
    "print([ res1, res2 ]) # results will be the same showing distributive property holds"
   ]
  },
  {
   "cell_type": "code",
   "execution_count": 3,
   "metadata": {},
   "outputs": [
    {
     "name": "stdout",
     "output_type": "stream",
     "text": [
      "[ 0.87132311  0.91741108 -0.0526395   0.54439269 -1.84935824]\n",
      "[-0.00871389 -0.01785287 -0.01535076  0.00670691 -0.02298706]\n"
     ]
    }
   ],
   "source": [
    "### The dot product is not Associative\n",
    "\n",
    "n = 5\n",
    "a = np.random.randn(n)\n",
    "b = np.random.randn(n)\n",
    "c = np.random.randn(n)\n",
    "\n",
    "res1 = np.dot( a, np.dot(b,c) ) # a * (bc)\n",
    "res2 = np.dot( np.dot(a,b), c ) # (ab) * c - move the parens\n",
    "\n",
    "# The results will not match since the associative property does not hold with the dot product\n",
    "print(res1)\n",
    "print(res2)"
   ]
  },
  {
   "cell_type": "code",
   "execution_count": 4,
   "metadata": {},
   "outputs": [
    {
     "name": "stdout",
     "output_type": "stream",
     "text": [
      "-7.737619068917805 -7.737619068917805 0.0\n",
      " \n",
      "26 26\n"
     ]
    }
   ],
   "source": [
    "#### The Dot Product is Commutative ####\n",
    "\n",
    "# 100 element vectors\n",
    "a = np.random.randn(100)\n",
    "b = np.random.randn(100)\n",
    "\n",
    "# compute dot products of a and b and b and a\n",
    "dp_ab = np.dot(a,b)\n",
    "dp_ba = np.dot(b,a)\n",
    "\n",
    "# show that the dot products are the same and therefore commutative\n",
    "print(dp_ab,dp_ba,dp_ab-dp_ba)\n",
    "print(' ')\n",
    "\n",
    "# example with regular lists of numbers\n",
    "v = [2,4]\n",
    "w = [3,5]\n",
    "print(np.dot(v,w),np.dot(w,v))"
   ]
  },
  {
   "cell_type": "code",
   "execution_count": 5,
   "metadata": {},
   "outputs": [
    {
     "name": "stdout",
     "output_type": "stream",
     "text": [
      "9.539392014169456\n"
     ]
    }
   ],
   "source": [
    "### Computing the Length of a Vector ###\n",
    "\n",
    "# length is the square root of the dot product of a vector with itself\n",
    "\n",
    "v1 = np.array([ 1,2,3,4,5,6 ])\n",
    "\n",
    "# use the .norm() function\n",
    "vl = np.linalg.norm(v1)\n",
    "\n",
    "print(vl) # the length"
   ]
  }
 ],
 "metadata": {
  "kernelspec": {
   "display_name": "pytorch2023",
   "language": "python",
   "name": "python3"
  },
  "language_info": {
   "codemirror_mode": {
    "name": "ipython",
    "version": 3
   },
   "file_extension": ".py",
   "mimetype": "text/x-python",
   "name": "python",
   "nbconvert_exporter": "python",
   "pygments_lexer": "ipython3",
   "version": "3.10.13"
  }
 },
 "nbformat": 4,
 "nbformat_minor": 2
}
