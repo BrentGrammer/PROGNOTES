{
 "cells": [
  {
   "cell_type": "code",
   "execution_count": 4,
   "metadata": {},
   "outputs": [
    {
     "name": "stdout",
     "output_type": "stream",
     "text": [
      "[[ 0.05006993  1.65539038  1.14496238 -1.22388126 -1.21320384]\n",
      " [ 0.43115535 -0.21174549 -0.79478907  1.05490888  0.60355636]\n",
      " [-0.4484203  -1.05623512 -0.97690861 -0.73237032  1.35415014]\n",
      " [-1.02727488  1.73488131 -0.30085992 -0.82697051  0.39808769]\n",
      " [ 0.70900938  0.07230839 -1.42018401  0.79363467 -0.56795722]]\n",
      " \n",
      "[[ 0.35006993  1.65539038  1.14496238 -1.22388126 -1.21320384]\n",
      " [ 0.43115535  0.08825451 -0.79478907  1.05490888  0.60355636]\n",
      " [-0.4484203  -1.05623512 -0.67690861 -0.73237032  1.35415014]\n",
      " [-1.02727488  1.73488131 -0.30085992 -0.52697051  0.39808769]\n",
      " [ 0.70900938  0.07230839 -1.42018401  0.79363467 -0.26795722]]\n"
     ]
    },
    {
     "data": {
      "text/plain": [
       "(None, None, None)"
      ]
     },
     "execution_count": 4,
     "metadata": {},
     "output_type": "execute_result"
    }
   ],
   "source": [
    "### MATRIX ADDITION/SUBTRACTION\n",
    "\n",
    "import numpy as np\n",
    "\n",
    "A = np.random.randn(5,4)\n",
    "B = np.random.randn(5,3)\n",
    "C = np.random.randn(5,4)\n",
    "\n",
    "# A+B # error: sizes do not match\n",
    "A+C\n",
    "\n",
    "\n",
    "######### SHIFTING A MATRIX #############\n",
    "\n",
    "l = .3 # lambda scalar\n",
    "N = 5 # size of a square matrix\n",
    "D = np.random.randn(N,N) # can only shift a square matrix\n",
    "\n",
    "Ds = D + l*np.eye(N)\n",
    "\n",
    "print(D), print(' '), print(Ds)\n",
    "\n",
    "# Note how the shifted matrix diagonals are changed, but not the other elements\n",
    "  # Changing l (lambda) will only alter the diagonals by a small amount if you make lambda smaller\n",
    "\n"
   ]
  }
 ],
 "metadata": {
  "kernelspec": {
   "display_name": "pytorch2023",
   "language": "python",
   "name": "python3"
  },
  "language_info": {
   "codemirror_mode": {
    "name": "ipython",
    "version": 3
   },
   "file_extension": ".py",
   "mimetype": "text/x-python",
   "name": "python",
   "nbconvert_exporter": "python",
   "pygments_lexer": "ipython3",
   "version": "3.10.13"
  }
 },
 "nbformat": 4,
 "nbformat_minor": 2
}
