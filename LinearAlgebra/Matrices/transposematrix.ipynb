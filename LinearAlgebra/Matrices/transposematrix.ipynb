{
 "cells": [
  {
   "cell_type": "code",
   "execution_count": 2,
   "metadata": {},
   "outputs": [
    {
     "name": "stdout",
     "output_type": "stream",
     "text": [
      "[[1 2 3]\n",
      " [2 3 4]]\n",
      "\n",
      "[[1 2]\n",
      " [2 3]\n",
      " [3 4]]\n",
      "\n",
      "[[1 2 3]\n",
      " [2 3 4]]\n",
      "\n",
      "[[1 2]\n",
      " [2 3]\n",
      " [3 4]]\n"
     ]
    }
   ],
   "source": [
    "# Transposing Matrices\n",
    "import numpy as np\n",
    "\n",
    "M = np.array([ [1,2,3],\n",
    "               [2,3,4] ])\n",
    "\n",
    "print(M), print('')\n",
    "print(M.T), print('') # transpose the matrix - .T only works on numpy arrays (not lists, etc.)\n",
    "print(M.T.T), print('') # double transposed returns original\n",
    "\n",
    "print(np.transpose(M)) # using transpose() method - works on non-numpy types like a multi-dimensional list while .T only works on numpy arrays"
   ]
  },
  {
   "cell_type": "code",
   "execution_count": 13,
   "metadata": {},
   "outputs": [
    {
     "name": "stdout",
     "output_type": "stream",
     "text": [
      "[[3.+2.j 3.+0.j 5.-2.j]]\n",
      "\n",
      " normal transpose (signs do not change):\n",
      "[[3.+2.j]\n",
      " [3.+0.j]\n",
      " [5.-2.j]]\n",
      "\n",
      "[[3.+2.j]\n",
      " [3.+0.j]\n",
      " [5.-2.j]]\n",
      "\n",
      "Hermitian Transpose (signs change):\n",
      "\n",
      "[[3.-2.j]\n",
      " [3.-0.j]\n",
      " [5.+2.j]]\n"
     ]
    }
   ],
   "source": [
    "# Warning with complex values in matrices\n",
    "# The numpy transpose does not use hermetian transpose, just normal transpose\n",
    "\n",
    "C = np.array([[3+2j, 3, 5-2j]])\n",
    "print(C)\n",
    "print('\\n normal transpose (signs do not change):')\n",
    "print(C.T)\n",
    "print('')\n",
    "print(np.transpose(C))\n",
    "# we get the same signs for the complex imaginary component of the number \n",
    "\n",
    "print('\\nHermitian Transpose (signs change):\\n')\n",
    "# Call Hermetian transpose explicitly\n",
    "# First you need to compute the complex conjugate and then transpose - convert numpy array to matrix object, then call .H method for hermitian transposition\n",
    "print(np.matrix(C).H) # see the sign flips on the imaginary parts (the signs of the real parts in the numbers stays the same)\n",
    "\n"
   ]
  }
 ],
 "metadata": {
  "kernelspec": {
   "display_name": "pytorch2023",
   "language": "python",
   "name": "python3"
  },
  "language_info": {
   "codemirror_mode": {
    "name": "ipython",
    "version": 3
   },
   "file_extension": ".py",
   "mimetype": "text/x-python",
   "name": "python",
   "nbconvert_exporter": "python",
   "pygments_lexer": "ipython3",
   "version": "3.10.13"
  }
 },
 "nbformat": 4,
 "nbformat_minor": 2
}
