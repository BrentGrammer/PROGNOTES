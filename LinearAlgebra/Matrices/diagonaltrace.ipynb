{
 "cells": [
  {
   "cell_type": "code",
   "execution_count": 4,
   "metadata": {},
   "outputs": [
    {
     "name": "stdout",
     "output_type": "stream",
     "text": [
      "[[  7.  -6.  11.   1.]\n",
      " [  2.   5.   1.  -5.]\n",
      " [  2.   5. -11.  -3.]\n",
      " [  6.  -1.  -5.  -4.]]\n",
      "\n",
      "[  7.   5. -11.  -4.]\n",
      "\n",
      "[[  7.   0.   0.   0.]\n",
      " [  0.   5.   0.   0.]\n",
      " [  0.   0. -11.   0.]\n",
      " [  0.   0.   0.  -4.]]\n",
      "\n",
      "-3.0 -3.0\n"
     ]
    }
   ],
   "source": [
    "# Diagonal and Trace of a Matrix\n",
    "import numpy as np\n",
    "\n",
    "# 4x4 matrix of random integers\n",
    "M = np.round( 5*np.random.randn(4,4)) # scaled up with *5 and rounded (just arbitrary)\n",
    "print(M), print('')\n",
    "d = np.diag(M)\n",
    "\n",
    "# diag can be used differently depending on the input\n",
    "d = np.diag(M) # output is vector\n",
    "D = np.diag(d) # *if input is vector, output is matrix with the diagonals matching the input vector elements\n",
    "\n",
    "print(d),print('')\n",
    "print(D)\n",
    "\n",
    "\n",
    "######## TRACE #############\n",
    "\n",
    "tr = np.trace(M)\n",
    "tr2 = sum( np.diag(M) )\n",
    "print('')\n",
    "print(tr,tr2)"
   ]
  }
 ],
 "metadata": {
  "kernelspec": {
   "display_name": "pytorch2023",
   "language": "python",
   "name": "python3"
  },
  "language_info": {
   "codemirror_mode": {
    "name": "ipython",
    "version": 3
   },
   "file_extension": ".py",
   "mimetype": "text/x-python",
   "name": "python",
   "nbconvert_exporter": "python",
   "pygments_lexer": "ipython3",
   "version": "3.10.13"
  }
 },
 "nbformat": 4,
 "nbformat_minor": 2
}
