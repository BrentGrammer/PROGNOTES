{
 "cells": [
  {
   "cell_type": "code",
   "execution_count": 9,
   "metadata": {},
   "outputs": [
    {
     "name": "stdout",
     "output_type": "stream",
     "text": [
      "0.4311, 1.8637\n",
      "2.3608, 2.3608\n"
     ]
    }
   ],
   "source": [
    "######### CAUCHY SCHWARZ INEQUALITY ###############\n",
    "\n",
    "import numpy as np\n",
    "\n",
    "# create three vectors, one of which is dependent on another:\n",
    "\n",
    "# a and b form a linearly independent set (dot prod. should be less than vector norms prod.)\n",
    "a = np.random.randn(5) # 5-D vector of gaussian distr. rand nums\n",
    "b = np.random.randn(5) # very unlikely these are dependent on vector a above\n",
    "\n",
    "# vector c is dependent on a and a scaled version of a (dot prod. should be equal to norms prod.)\n",
    "# a and c are a linearly DEPENDENT set\n",
    "c = np.random.randn(1) * a # random num scaled by a (creates 5-D vector like a)\n",
    "\n",
    "# compute dot products\n",
    "aTb = np.dot(a,b)\n",
    "aTc = np.dot(a,c)\n",
    "\n",
    "# demo the (in)equalities:\n",
    "print(f'{np.abs(aTb):.4f}, {np.linalg.norm(a) * np.linalg.norm(b):.4f}') # restrict output to 4 decimal points for printing\n",
    "# shows values of abs of dotp aTb, and len of vector a times len of vector b\n",
    "# shows the left number (abs of dot prdct) is less than the product of the norms\n",
    "\n",
    "# Demonstrate equality - compare dependent variables a and c:\n",
    "print(f'{np.abs(aTc):.4f}, {np.linalg.norm(a) * np.linalg.norm(c):.4f}') # restrict output to 4 decimal points for printing\n",
    "# since a and c are dependent set, the abs of dot product will equal the product of the vector norms\n",
    "  # the cosine of the angle between a and c is either -1 or +1 - the abs val in the eq. gives us a cosine of 1 then.\n",
    "  # Note: if vector c random num is negative, then the angle between a and c is 180 deg or pi rad.\n"
   ]
  }
 ],
 "metadata": {
  "kernelspec": {
   "display_name": "pytorch2023",
   "language": "python",
   "name": "python3"
  },
  "language_info": {
   "codemirror_mode": {
    "name": "ipython",
    "version": 3
   },
   "file_extension": ".py",
   "mimetype": "text/x-python",
   "name": "python",
   "nbconvert_exporter": "python",
   "pygments_lexer": "ipython3",
   "version": "3.10.13"
  }
 },
 "nbformat": 4,
 "nbformat_minor": 2
}
