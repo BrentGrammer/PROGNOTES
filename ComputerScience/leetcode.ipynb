{
 "cells": [
  {
   "cell_type": "code",
   "execution_count": 5,
   "metadata": {},
   "outputs": [
    {
     "name": "stdout",
     "output_type": "stream",
     "text": [
      "6\n",
      "1\n",
      "4\n",
      "3\n"
     ]
    },
    {
     "data": {
      "text/plain": [
       "[0, 1]"
      ]
     },
     "execution_count": 5,
     "metadata": {},
     "output_type": "execute_result"
    }
   ],
   "source": [
    "def twoSum(nums, target):\n",
    "    for idx, n in enumerate(nums):\n",
    "        diff = target - n\n",
    "        print(diff)\n",
    "        rem = nums.pop(idx)\n",
    "        print(rem)\n",
    "        if diff in nums:\n",
    "            return [idx-1,nums.index(diff)+1]\n",
    "\n",
    "twoSum([1,4,3], 7)"
   ]
  },
  {
   "cell_type": "code",
   "execution_count": 23,
   "metadata": {},
   "outputs": [
    {
     "name": "stdout",
     "output_type": "stream",
     "text": [
      "['aet', 'aet', 'ant', 'aet', 'ant', 'abt']\n",
      "[['eat', 'tea', 'ate'], ['tan', 'nat'], ['bat']]\n"
     ]
    }
   ],
   "source": [
    "def groupAnagrams(strs):\n",
    "    # convert to list so we can iterate over without consuming (map returns a consumable structure that is exhausted after iteration via enumerate)\n",
    "    sortedstrs = list(map(lambda x: ''.join(sorted(x)), strs))\n",
    "    matches = []\n",
    "    visited = []\n",
    "\n",
    "    for i,s in enumerate(sortedstrs):\n",
    "        if i in visited:\n",
    "            continue\n",
    "\n",
    "        loopmatches = [strs[i]]\n",
    "\n",
    "        for sorti, sortd in enumerate(sortedstrs):\n",
    "            if s == sortd and i != sorti:\n",
    "                visited.append(sorti)\n",
    "                loopmatches.append(strs[sorti])\n",
    "            \n",
    "        matches.append(loopmatches)\n",
    "    \n",
    "    return matches\n",
    "\n",
    "strs = [\"eat\",\"tea\",\"tan\",\"ate\",\"nat\",\"bat\"]\n",
    "matches = groupAnagrams(strs)\n",
    "print(matches)"
   ]
  },
  {
   "cell_type": "code",
   "execution_count": 34,
   "metadata": {},
   "outputs": [
    {
     "name": "stdout",
     "output_type": "stream",
     "text": [
      "[4, 3, 1, 2]\n"
     ]
    }
   ],
   "source": [
    "d = {1: 2, 2: 1, 3: 4, 4: 11}\n",
    "\n",
    "n = [i[0] for i in sorted(d.items(), key=lambda x: x[1], reverse=True)]\n",
    "print(n)"
   ]
  },
  {
   "cell_type": "code",
   "execution_count": 22,
   "metadata": {},
   "outputs": [
    {
     "name": "stdout",
     "output_type": "stream",
     "text": [
      "n=1\n",
      "index = 0, index of x: 0\n",
      "len is 0\n",
      "n=1\n",
      "index = 1, index of x: 0\n",
      "prod=1\n",
      "[0, 1]\n"
     ]
    }
   ],
   "source": [
    "from functools import reduce\n",
    "\n",
    "def productExceptSelf(nums):\n",
    "    prods = []\n",
    "    for i,n in enumerate(nums):\n",
    "        print(f'{n=}')\n",
    "        print(f'index = {i}, index of x: {nums.index(n)}')\n",
    "        ns = list(filter(lambda x: nums.index(x) != i, nums))\n",
    "    \n",
    "        if len(ns) == 0:\n",
    "            print('len is 0')\n",
    "            prod = 0\n",
    "            prods.append(prod)\n",
    "            continue\n",
    "    \n",
    "\n",
    "        prod = reduce(lambda x,y: x*y, ns)\n",
    "        print(f'{prod=}')\n",
    "\n",
    "        prods.append(prod)\n",
    "    return prods\n",
    "\n",
    "print(productExceptSelf([1,1]))"
   ]
  },
  {
   "cell_type": "code",
   "execution_count": 23,
   "metadata": {},
   "outputs": [
    {
     "name": "stdout",
     "output_type": "stream",
     "text": [
      "[24, 12, 8, 6]\n"
     ]
    }
   ],
   "source": [
    "# O(n) time and O(1) space\n",
    "# Main idea is to get numbers before and after the current index in nums (use prefix product and postfix product and then multiply them together)\n",
    "\n",
    "def productExceptSelf(nums):\n",
    "    # to get O(n) time we can use two for loops (O(2n) == O(n))\n",
    "    res = [1] * len(nums) # initialize results to length of the list passed in\n",
    "    # we will use this results list to store prefixes (product before current i) on one pass and then reverse pass on nums to get the postfix (after current i) and multiply that by the prefixes\n",
    "    \n",
    "    prefix = 1 # initialize prefix (for first prefix product we use 1 since there is nothing before the first entry in nums)\n",
    "    # get prefixes to the current index (the product of all numbers before the current index)\n",
    "    for i in range(len(nums)):\n",
    "        res[i] = prefix # assign the prefix product to the current index and save it\n",
    "        prefix *= nums[i] # get product of prefix so far and mult by current number to get and store the prefix product for the next index\n",
    "    # now get postfixes by iterating from the end of nums and multiply it by the saved prefix products in results list\n",
    "    postfix = 1 # init to 1 since there is nothing after the last index, this will get updated as we walk backwards in nums\n",
    "    for i in range(len(nums)-1,-1,-1):\n",
    "        # we multiply the postfix products by starting at end and go backwards to get products after i stored\n",
    "        res[i] *= postfix # multiply the stored prefix (product of nums before i) by the current postfix to get products for that index (excl. index)\n",
    "        postfix *= nums[i]\n",
    "    \n",
    "    return res\n",
    "\n",
    "print(productExceptSelf([1,2,3,4]))"
   ]
  },
  {
   "cell_type": "code",
   "execution_count": 70,
   "metadata": {},
   "outputs": [
    {
     "name": "stdout",
     "output_type": "stream",
     "text": [
      "True\n"
     ]
    }
   ],
   "source": [
    "from pprint import pprint\n",
    "import collections\n",
    "\n",
    "\n",
    "# iterate over entire board, use a hashmap set to check if numbers are repeated\n",
    "# store the seen values in a set in a hashmap for rows, columns and 3x3 squares to check against\n",
    "# for 3x3 key is to divide the row or col index by 3 to convert to a coordinate of 0-2 to determine square\n",
    "\n",
    "def isValidSoduku(board):\n",
    "    cols = collections.defaultdict(set)\n",
    "    rows = collections.defaultdict(set)\n",
    "    squares = collections.defaultdict(set)\n",
    "    dims = len(board)\n",
    "\n",
    "    for r in range(dims):\n",
    "        for c in range(dims):\n",
    "            val = board[r][c]\n",
    "            if val == '.':\n",
    "                continue # empty slot, just go to next iter\n",
    "\n",
    "            if (val in cols[c] or \n",
    "                val in rows[r] or \n",
    "                val in squares[r // 3,c // 3]): # convert row col coords to between 0-2 to represent a square coordinate (9 squares possible)\n",
    "                return False # repeated numbers, board is invalid\n",
    "            \n",
    "            # store seen numbers in hash sets\n",
    "            cols[c].add(val)\n",
    "            rows[r].add(val)\n",
    "            squares[r // 3,c // 3].add(val)\n",
    "\n",
    "    return True # no repeated numbers, did not return so board is valid\n",
    "            \n",
    "\n",
    "b = [[\"5\",\"3\",\".\",\".\",\"7\",\".\",\".\",\".\",\".\"]\n",
    ",[\"6\",\".\",\".\",\"1\",\"9\",\"5\",\".\",\".\",\".\"]\n",
    ",[\".\",\"9\",\"8\",\".\",\".\",\".\",\".\",\"6\",\".\"]\n",
    ",[\"8\",\".\",\".\",\".\",\"6\",\".\",\".\",\".\",\"3\"]\n",
    ",[\"4\",\".\",\".\",\"8\",\".\",\"3\",\".\",\".\",\"1\"]\n",
    ",[\"7\",\".\",\".\",\".\",\"2\",\".\",\".\",\".\",\"6\"]\n",
    ",[\".\",\"6\",\".\",\".\",\".\",\".\",\"2\",\"8\",\".\"]\n",
    ",[\".\",\".\",\".\",\"4\",\"1\",\"9\",\".\",\".\",\"5\"]\n",
    ",[\".\",\".\",\".\",\".\",\"8\",\".\",\".\",\"7\",\"9\"]]\n",
    "\n",
    "# print('b')\n",
    "# pprint(b[0:3])\n",
    "\n",
    "# print('\\n')\n",
    "\n",
    "# pprint(b[0:3][0][0:3])\n",
    "# pprint(b[0:3][1][0:3])\n",
    "# pprint(b[0:3][2][0:3])\n",
    "# print('\\n')\n",
    "\n",
    "# pprint(b[0:3][0][3:3+3])\n",
    "# pprint(b[0:3][1][3:3+3])\n",
    "# pprint(b[0:3][2][3:3+3])\n",
    "# print('\\n')\n",
    "\n",
    "# pprint(b[0:3][0][6:9])\n",
    "# pprint(b[0:3][1][6:9])\n",
    "# pprint(b[0:3][2][6:9])\n",
    "\n",
    "# print('\\n')\n",
    "# pprint(b[3:6])\n",
    "# print('\\n')\n",
    "\n",
    "\n",
    "# pprint(b[3:6][0][0:3])\n",
    "# pprint(b[3:6][1][0:3])\n",
    "# pprint(b[3:6][2][0:3])\n",
    "# print('\\n')\n",
    "\n",
    "# pprint(b[3:6][0][3:3+3])\n",
    "# pprint(b[3:6][1][3:3+3])\n",
    "# pprint(b[3:6][2][3:3+3])\n",
    "# print('\\n')\n",
    "\n",
    "# pprint(b[3:6][0][6:9])\n",
    "# pprint(b[3:6][1][6:9])\n",
    "# pprint(b[3:6][2][6:9])\n",
    "\n",
    "# print('\\n')\n",
    "# pprint(b[6:9])\n",
    "\n",
    "# print('\\n')\n",
    "# pprint(b[6:9][0][0:3])\n",
    "# pprint(b[6:9][1][0:3])\n",
    "# pprint(b[6:9][2][0:3])\n",
    "# print('\\n')\n",
    "\n",
    "# pprint(b[6:9][0][3:3+3])\n",
    "# pprint(b[6:9][1][3:3+3])\n",
    "# pprint(b[6:9][2][3:3+3])\n",
    "# print('\\n')\n",
    "\n",
    "# pprint(b[6:9][0][6:9])\n",
    "# pprint(b[6:9][1][6:9])\n",
    "# pprint(b[6:9][2][6:9])\n",
    "\n",
    "\n",
    "print(isValidSoduku(b))"
   ]
  },
  {
   "cell_type": "code",
   "execution_count": 36,
   "metadata": {},
   "outputs": [
    {
     "name": "stdout",
     "output_type": "stream",
     "text": [
      "1#a2#bc\n",
      "\n",
      "iteration ====================\n",
      "i=0 strlen: 7\n",
      "j=0\n",
      "j, the idx of the delim is: 1\n",
      "j=1 length=1, j+1+len = 3\n",
      "appending from idx 2 to 3\n",
      "\n",
      "iteration ====================\n",
      "i=3 strlen: 7\n",
      "j=3\n",
      "j, the idx of the delim is: 4\n",
      "j=4 length=2, j+1+len = 7\n",
      "appending from idx 5 to 7\n",
      "\n",
      "does it work? True\n"
     ]
    }
   ],
   "source": [
    "\n",
    "\n",
    "originalinput = ['a','bc']\n",
    "def encode(strs):\n",
    "    delim = '#'\n",
    "    encoded = \"\".join([f'{len(word)}{delim}{word}' for word in strs])\n",
    "    return encoded\n",
    "\n",
    "encoded = encode(originalinput)\n",
    "print(encoded)\n",
    "\n",
    "def decode(str):\n",
    "    # keep track of the built up string\n",
    "    decoded, i = [], 0 # start at index 0, pointer to where we are in the string as we parse complete words (when to start parsing the next word)\n",
    "    # loop over beginning word points until they exceed the length of the string\n",
    "    while i < len(str):\n",
    "        print('\\niteration ====================')\n",
    "        print(f'{i=} strlen: {len(str)}')\n",
    "        j = i # update j to be start of encoded entry\n",
    "        print(f'{j=}')\n",
    "        # getting word length:\n",
    "        while str[j] != '#': # find the part of entry up to the delimiter to get word length number\n",
    "            j += 1 # getting number of chars that represent word length number\n",
    "        print(f'j, the idx of the delim is: {j}')\n",
    "        # now j is the index after the number of length of the word (the index directly at the delim #)\n",
    "        length = int(str[i:j]) # parse length and convert to integer, j is the index at # and excl here.\n",
    "        print(f'{j=} {length=}, j+1+len = {j+1+length}')\n",
    "        print(f'appending from idx {j+1} to {j+1+length}')\n",
    "        decoded.append(str[j + 1 : j + 1 + length]) # j+1 is the idx after the delim idx, \n",
    "        # update i to represent the start of the next entry to decode\n",
    "        i = j + 1 + length\n",
    "        \n",
    "    return decoded\n",
    "\n",
    "decoded = decode(encoded)\n",
    "print(f'\\ndoes it work? {decoded == originalinput}')"
   ]
  },
  {
   "cell_type": "code",
   "execution_count": null,
   "metadata": {},
   "outputs": [],
   "source": [
    "# Longest sequence of consecutive numbers\n",
    "# main idea is to check if the element in a set (to remove duplicate vals) has a left neighbor that is one less than it. If no, it means that it is the start of a sequence and you can start checking for consecutive numbers after it\n",
    "\n",
    "# O(n) time complexity (we visit each element at most 2 times 2n breaks down to n)\n",
    "# memory complexity is O(n) since we create the set from n els in a list\n",
    "\n",
    "def longestConsecutive(nums): \n",
    "        '''returns a number - the longest number of els that make a consecutive sequence in the list (the els can be in any order and contain duplicates.)'''\n",
    "        if len(nums) == 0:\n",
    "            return 0\n",
    "        \n",
    "        # convert list to a set to remove duplicate numbers\n",
    "        numSet = set(nums)\n",
    "        longest = 0 # initialize a running count of the longest sequence found\n",
    "\n",
    "        for n in numSet:\n",
    "            # check if the number has a left neighbor that is 1 less than it - if not, it means that it is a start of a new sequence:\n",
    "            if (n-1) not in numSet:\n",
    "                # track the length of the current sequence\n",
    "                length = 0\n",
    "                # increase additions to start incrementally by 1 and check for the number in the set until failed to get the length of the sequence:\n",
    "                while (n+length) in numSet:\n",
    "                    length += 1\n",
    "                # update the longest running count if length is greater than current recorded longest\n",
    "                longest = max(length,longest)\n",
    "        \n",
    "        return longest"
   ]
  },
  {
   "cell_type": "code",
   "execution_count": 10,
   "metadata": {},
   "outputs": [
    {
     "data": {
      "text/plain": [
       "True"
      ]
     },
     "execution_count": 10,
     "metadata": {},
     "output_type": "execute_result"
    }
   ],
   "source": [
    "import re\n",
    "\n",
    "# uses more memory\n",
    "def isPalindrome(s: str) -> bool: \n",
    "    cleaned = re.sub(r'\\W|_+',\"\",s)\n",
    "    lowercase = cleaned.lower()\n",
    "    reversed = lowercase[::-1]\n",
    "    return reversed == lowercase\n",
    "\n",
    "isPalindrome(\"ab_a\")\n",
    "\n",
    "# this solution uses O(1) memory - we use pointers at the beginning and end of string to check and match chars\n",
    "def lowmemoryPalindrome(s):\n",
    "    # create pointers on ends of string\n",
    "    l = 0\n",
    "    r = len(s) - 1 # last char pointer\n",
    "    # go through string until pointers meet or pass each other\n",
    "    while l < r:\n",
    "        # skip chars that are not alphanumeric\n",
    "        while l < r and not alphaNum(s[l]):\n",
    "            # increment left pointer past all nonalpha chars:\n",
    "            l += 1\n",
    "        while r > l and not alphaNum(s[r]):\n",
    "            r -= 1 # decrement right pointer to skip all nonalpha chars\n",
    "        # compare chars and return false if no match\n",
    "        if s[l].lower() != s[r].lower():\n",
    "            return False\n",
    "        # update pointers\n",
    "        l += 1\n",
    "        r -= 1\n",
    "    # we've reached end of str and not returned early so all chars match,\n",
    "    return True\n",
    "\n",
    "# helper to check if alpha numeric - we use ord to get the ASCII number\n",
    "def alphaNum(c):\n",
    "    return (ord('A') <= ord(c) <= ord('Z') or\n",
    "            ord('a') <= ord(c) <= ord('z') or \n",
    "            ord('0') <= ord(c) <= ord('9')) # check if c is in between or equal to alpha numeric chars\n",
    "\n",
    "lowmemoryPalindrome(\"ab_a\")"
   ]
  },
  {
   "cell_type": "code",
   "execution_count": 3,
   "metadata": {},
   "outputs": [
    {
     "data": {
      "text/plain": [
       "[0, 1]"
      ]
     },
     "execution_count": 3,
     "metadata": {},
     "output_type": "execute_result"
    }
   ],
   "source": [
    "### Two Sum (unsorted)\n",
    "\n",
    "## The main idea is to start with a empty hash map and start saving values seen as you walk as {value: index}\n",
    "## This allows for O(n) time and O(n) memory space\n",
    "\n",
    "def twoSum(nums,target):\n",
    "    # create hash map empty initially\n",
    "    prevMap = {}\n",
    "\n",
    "    for i, n in enumerate(nums):\n",
    "        diff = target - n\n",
    "        if diff in prevMap:\n",
    "            return [prevMap[diff], i] # return the inidices\n",
    "        prevMap[n] = i\n",
    "\n",
    "twoSum([2,7,11,23], 9)"
   ]
  },
  {
   "cell_type": "code",
   "execution_count": 14,
   "metadata": {},
   "outputs": [
    {
     "name": "stdout",
     "output_type": "stream",
     "text": [
      "[1, 3]\n",
      "[1, 2]\n",
      "[5, 6]\n"
     ]
    }
   ],
   "source": [
    "### Two Sum II (sorted)\n",
    "\n",
    "# find two nums that add up to the target and return their indices (1 based)\n",
    "# Brute force would be exponential time (O(n^2))\n",
    "# using two left and right pointers is O(n) linear time\n",
    "# The idea is to subtract ends of the list and increase the left pointer if the result is too small, and decrement the right pointer if the sum is too large\n",
    "  # this allows us to iterate through the array 1 time and not use extra memory\n",
    "  # takes advantage that the numbers are sorted in ascending order\n",
    "\n",
    "def twoSum(numbers, target):\n",
    "    l = 0\n",
    "    r = len(numbers)-1\n",
    "\n",
    "    while l < r:\n",
    "        curSum = numbers[r] + numbers[l]\n",
    "        if curSum > target:\n",
    "            r -= 1 # reduce right side to reduce sum\n",
    "        elif curSum < target:\n",
    "            l += 1 # add more\n",
    "        else:\n",
    "            return [l+1,r+1]\n",
    "    \n",
    "\n",
    "\n",
    "        \n",
    "result = twoSum([2,3,4],6)\n",
    "result2 = twoSum([0,0,3,4],0)\n",
    "result3 = twoSum([-1,-1,-1,-1,1,1],2)\n",
    "print(result)\n",
    "print(result2)\n",
    "print(result3)"
   ]
  },
  {
   "cell_type": "code",
   "execution_count": null,
   "metadata": {},
   "outputs": [],
   "source": [
    "### Three Sum\n",
    "\n",
    "## Main idea is to sort the list, then use a updated hashmap as you walk to eliminate computing duplicate combinations and then use Two Sum II solution for the remaining 2 variables of the triplicate\n",
    "## (as in two sum II we then use two pointers at each end of the sorted list to avoid extra mem with a hashmap)\n",
    "# Time complexity uses two loops so is O(n^2), space complexity is O(n) due to sorting if it takes memory\n",
    "\n",
    "def threeSum(nums):\n",
    "    # sort the list first\n",
    "    res = []\n",
    "    nums.sort()\n",
    "\n",
    "    for i, a in enumerate(nums):\n",
    "        # skip duplicates (they will be next to each other in the sorted list):\n",
    "        if i > 0 and a == nums[i-1]:\n",
    "            continue # skip\n",
    "\n",
    "        # use two sum II approach to solve for remaining two vars\n",
    "        l = i + 1\n",
    "        r = len(nums)-1\n",
    "\n",
    "        while l < r: # l and r pointer cannot cross or be equal\n",
    "            threeSum = a + nums[l] + nums[r]\n",
    "            # if combo is greater than zero we need to decrease sum, so decrement right pointer\n",
    "            if threeSum > 0:\n",
    "                r -= 1\n",
    "            elif threeSum < 0:\n",
    "                l += 1 # increment left to make sum bigger if too small\n",
    "            else:\n",
    "                # collect result if equals zero (l and r did not cross and we found a solution)\n",
    "                res.append([a,nums[l],nums[r]])\n",
    "                # now move pointer on b value to get setup for the next a value\n",
    "                # we only shift the left pointer (the other pointer will be updated by the above cases)\n",
    "                l += 1\n",
    "                # we don't want the same sum so we use a loop. If we find the same value, we need to keep shifting to skip duplicate a values\n",
    "                while nums[l] == nums[l-1] and l < r: # also guard against l and r pointers crossing\n",
    "                    l += 1\n",
    "        \n",
    "        return res\n",
    "\n",
    "\n",
    "\n",
    "\n"
   ]
  },
  {
   "cell_type": "code",
   "execution_count": 2,
   "metadata": {},
   "outputs": [
    {
     "data": {
      "text/plain": [
       "49"
      ]
     },
     "execution_count": 2,
     "metadata": {},
     "output_type": "execute_result"
    }
   ],
   "source": [
    "# brute force O(n^2) - water capacity problem\n",
    "def maxArea(height):\n",
    "        maxcapacity = 0\n",
    "        for i in range(len(height)):\n",
    "            for j in range(len(height)-1,-1,-1):\n",
    "              if i < j:\n",
    "                  span = j - i\n",
    "                  h = min(height[i], height[j])\n",
    "                  capacity = span * h\n",
    "                  if capacity > maxcapacity:\n",
    "                      maxcapacity = capacity\n",
    "        \n",
    "        return maxcapacity\n",
    "\n",
    "\n",
    "# O(n) linear solution\n",
    "# Keep a left and right pointer, move the one over that has a lesser height (to retain the bar with the greatest height)\n",
    "def maxArea(height):\n",
    "    maxcapacity = 0\n",
    "    # left and right pointers\n",
    "    l = 0\n",
    "    r = len(height) - 1\n",
    "\n",
    "    # keep iterating until left crosses right:\n",
    "    while l < r:\n",
    "        span = r - l\n",
    "        area = span * min(height[l],height[r])\n",
    "\n",
    "        maxcapacity = max(area, maxcapacity)\n",
    "\n",
    "        if height[l] < height[r]:\n",
    "            l += 1\n",
    "            continue\n",
    "        if height[r] < height [l]:\n",
    "            r -= 1 # decrement right pointer if it's the lesser\n",
    "            continue\n",
    "        # if they are equal then we move any pointer over\n",
    "        l += 1\n",
    "\n",
    "    return maxcapacity\n",
    "        \n",
    "\n",
    "maxArea([1,8,6,2,5,4,8,3,7]) # 49"
   ]
  },
  {
   "cell_type": "code",
   "execution_count": 3,
   "metadata": {},
   "outputs": [
    {
     "data": {
      "text/plain": [
       "9"
      ]
     },
     "execution_count": 3,
     "metadata": {},
     "output_type": "execute_result"
    }
   ],
   "source": [
    "# Trapped rain water\n",
    "\n",
    "# for O(1) memory, O(n) runtime solution, keep left and right pointers\n",
    "# keep track of the maximum heights on the right or left\n",
    "# The bottleneck for water trapped is the minimum of the max heights (water overflows if beyond this height)\n",
    "# We shift the left or right pointer if they are the minimum of the two max heights\n",
    "# The pattern focuses on the lesser of left or right heights and determines if water can be held adjacent to it (to the right of left, or to the left of the right block)\n",
    "\n",
    "def trap(height):\n",
    "    # edge if height empty\n",
    "    if not height: return 0\n",
    "\n",
    "    l = 0\n",
    "    r = len(height)-1\n",
    "    trapped = 0\n",
    "\n",
    "    maxLeft = height[0] # on the boundary at beginning there is no left height container\n",
    "    maxRight = height[-1] # boundary: no right container height to the right of the edge\n",
    "\n",
    "    while l < r:\n",
    "        # shift the pointer that is the current minimum of the max heights:\n",
    "        if maxLeft < maxRight:\n",
    "            l += 1            # update the max height if needed\n",
    "            maxLeft = max(maxLeft, height[l])\n",
    "            # calculate trapped water\n",
    "            # If leftMax is less than (or equal to) height[l], we set leftMax equal to height[l] and then subtract height[l] from it, which would equal zero.\n",
    "            # On the other hand, if leftMax is greater than height[l], we keep leftMax as is and subtract height[l] from it, which would be a positive value. \n",
    "            trapped += maxLeft - height[l] # this will never be negative since we update the left max before doing this computation\n",
    "        else:\n",
    "            r -= 1\n",
    "            maxRight = max(maxRight, height[r])\n",
    "            trapped += maxRight - height[r]\n",
    "\n",
    "    return trapped\n",
    "\n",
    "trap([4,2,0,3,2,5]) # 9"
   ]
  },
  {
   "cell_type": "code",
   "execution_count": null,
   "metadata": {},
   "outputs": [],
   "source": []
  }
 ],
 "metadata": {
  "kernelspec": {
   "display_name": "base",
   "language": "python",
   "name": "python3"
  },
  "language_info": {
   "codemirror_mode": {
    "name": "ipython",
    "version": 3
   },
   "file_extension": ".py",
   "mimetype": "text/x-python",
   "name": "python",
   "nbconvert_exporter": "python",
   "pygments_lexer": "ipython3",
   "version": "3.8.18"
  }
 },
 "nbformat": 4,
 "nbformat_minor": 2
}
