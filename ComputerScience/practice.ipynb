{
 "cells": [
  {
   "cell_type": "code",
   "execution_count": 5,
   "metadata": {},
   "outputs": [
    {
     "name": "stdout",
     "output_type": "stream",
     "text": [
      "6\n",
      "1\n",
      "4\n",
      "3\n"
     ]
    },
    {
     "data": {
      "text/plain": [
       "[0, 1]"
      ]
     },
     "execution_count": 5,
     "metadata": {},
     "output_type": "execute_result"
    }
   ],
   "source": [
    "def twoSum(nums, target):\n",
    "    for idx, n in enumerate(nums):\n",
    "        diff = target - n\n",
    "        print(diff)\n",
    "        rem = nums.pop(idx)\n",
    "        print(rem)\n",
    "        if diff in nums:\n",
    "            return [idx-1,nums.index(diff)+1]\n",
    "\n",
    "twoSum([1,4,3], 7)"
   ]
  },
  {
   "cell_type": "code",
   "execution_count": 23,
   "metadata": {},
   "outputs": [
    {
     "name": "stdout",
     "output_type": "stream",
     "text": [
      "['aet', 'aet', 'ant', 'aet', 'ant', 'abt']\n",
      "[['eat', 'tea', 'ate'], ['tan', 'nat'], ['bat']]\n"
     ]
    }
   ],
   "source": [
    "def groupAnagrams(strs):\n",
    "    # convert to list so we can iterate over without consuming (map returns a consumable structure that is exhausted after iteration via enumerate)\n",
    "    sortedstrs = list(map(lambda x: ''.join(sorted(x)), strs))\n",
    "    matches = []\n",
    "    visited = []\n",
    "\n",
    "    for i,s in enumerate(sortedstrs):\n",
    "        if i in visited:\n",
    "            continue\n",
    "\n",
    "        loopmatches = [strs[i]]\n",
    "\n",
    "        for sorti, sortd in enumerate(sortedstrs):\n",
    "            if s == sortd and i != sorti:\n",
    "                visited.append(sorti)\n",
    "                loopmatches.append(strs[sorti])\n",
    "            \n",
    "        matches.append(loopmatches)\n",
    "    \n",
    "    return matches\n",
    "\n",
    "strs = [\"eat\",\"tea\",\"tan\",\"ate\",\"nat\",\"bat\"]\n",
    "matches = groupAnagrams(strs)\n",
    "print(matches)"
   ]
  },
  {
   "cell_type": "code",
   "execution_count": 34,
   "metadata": {},
   "outputs": [
    {
     "name": "stdout",
     "output_type": "stream",
     "text": [
      "[4, 3, 1, 2]\n"
     ]
    }
   ],
   "source": [
    "d = {1: 2, 2: 1, 3: 4, 4: 11}\n",
    "\n",
    "n = [i[0] for i in sorted(d.items(), key=lambda x: x[1], reverse=True)]\n",
    "print(n)"
   ]
  },
  {
   "cell_type": "code",
   "execution_count": 22,
   "metadata": {},
   "outputs": [
    {
     "name": "stdout",
     "output_type": "stream",
     "text": [
      "n=1\n",
      "index = 0, index of x: 0\n",
      "len is 0\n",
      "n=1\n",
      "index = 1, index of x: 0\n",
      "prod=1\n",
      "[0, 1]\n"
     ]
    }
   ],
   "source": [
    "from functools import reduce\n",
    "\n",
    "def productExceptSelf(nums):\n",
    "    prods = []\n",
    "    for i,n in enumerate(nums):\n",
    "        print(f'{n=}')\n",
    "        print(f'index = {i}, index of x: {nums.index(n)}')\n",
    "        ns = list(filter(lambda x: nums.index(x) != i, nums))\n",
    "    \n",
    "        if len(ns) == 0:\n",
    "            print('len is 0')\n",
    "            prod = 0\n",
    "            prods.append(prod)\n",
    "            continue\n",
    "    \n",
    "\n",
    "        prod = reduce(lambda x,y: x*y, ns)\n",
    "        print(f'{prod=}')\n",
    "\n",
    "        prods.append(prod)\n",
    "    return prods\n",
    "\n",
    "print(productExceptSelf([1,1]))"
   ]
  },
  {
   "cell_type": "code",
   "execution_count": null,
   "metadata": {},
   "outputs": [],
   "source": []
  }
 ],
 "metadata": {
  "kernelspec": {
   "display_name": "base",
   "language": "python",
   "name": "python3"
  },
  "language_info": {
   "codemirror_mode": {
    "name": "ipython",
    "version": 3
   },
   "file_extension": ".py",
   "mimetype": "text/x-python",
   "name": "python",
   "nbconvert_exporter": "python",
   "pygments_lexer": "ipython3",
   "version": "3.8.18"
  }
 },
 "nbformat": 4,
 "nbformat_minor": 2
}
