{
 "cells": [
  {
   "cell_type": "code",
   "execution_count": 3,
   "metadata": {},
   "outputs": [
    {
     "name": "stdout",
     "output_type": "stream",
     "text": [
      "[[ 2  4]\n",
      " [ 4 10]]\n",
      "[[ 2  4]\n",
      " [ 4 10]]\n"
     ]
    }
   ],
   "source": [
    "########## MATRIX MULTIPLICATION ############\n",
    "import numpy as np\n",
    "\n",
    "#### Scalar Multiplication ####\n",
    "\n",
    "M = np.array([ [1,2], [2,5] ])\n",
    "s = 2\n",
    "\n",
    "print(M*s) # [1*2, 2*2]  [2*2 2*5]\n",
    "print(s*M)\n",
    "# both results are the same since matrix scalar multiplication is commutative, element-wise"
   ]
  },
  {
   "cell_type": "code",
   "execution_count": null,
   "metadata": {},
   "outputs": [],
   "source": [
    "# How Matrix Multiplication works\n",
    "\n",
    "import numpy as np\n",
    "\n",
    "A = np.array([[1, 2],\n",
    "              [3,4],\n",
    "              [5, 6]])\n",
    "\n",
    "B = np.array([[7, 8],\n",
    "             [9,10]])\n",
    "\n",
    "# Multiply the row by each column in the other matrix. Each col in other matrix is an element in the row of the result matrix\n",
    "# You have to go through all the columns on Matrix B per row of Matrix A to complete computation on one row of Matrix A (which makes a row of the product matrix)\n",
    "\n",
    "# Let's calculate C11 (the first element of the result matrix) manually\n",
    "C11 = (A[0,0] * B[0,0]) + (A[0,1] * B[1,0])\n",
    "print(f\"C11 = ({A[0,0]} * {B[0,0]}) + ({A[0,1]} * {B[1,0]}) = {C11}\")\n",
    "\n",
    "C12 = (A[0,0] * B[0,1]) + (A[0,1] * B[1,1])\n",
    "print(f\"C12 = ({A[0,0]} * {B[0,1]}) + ({A[0,1]} * {B[1,1]}) = {C12}\")\n",
    "\n",
    "# Now let's do the full matrix multiplication\n",
    "C = A @ B\n",
    "print(\"Full result:\")\n",
    "print(C)\n",
    "\n",
    "# Matrix A must have same num cols m as Matrix B rows n -> n x m_col * m_col x m\n",
    "# need to multiply each row in Matrix A by each col in Matrix B\n",
    "  # each rowxcol -> one row element in result matrix\n",
    "# once all cols in matrix B have been multiplied by, you're done with that row in the result matrix. Move to next row in Matrix A\n",
    "\n"
   ]
  },
  {
   "cell_type": "code",
   "execution_count": 4,
   "metadata": {},
   "outputs": [
    {
     "name": "stdout",
     "output_type": "stream",
     "text": [
      "[[ 0.68223265  0.94874968 -0.38733081 -0.49969736  0.3090353 ]\n",
      " [-0.35851893  1.16488653 -0.45920293 -0.34630569  0.0981618 ]\n",
      " [ 0.24127935  0.21323068  0.05786893 -0.45568732 -0.15039676]\n",
      " [-0.10327487 -0.51592688  0.51179333 -0.04558114 -0.32110807]\n",
      " [-0.21271377  0.77220888 -0.3586892  -0.3393353   0.02604587]\n",
      " [-0.22747128 -0.8345488   0.19340661 -0.24540967  0.32134919]\n",
      " [-0.05154044  0.54420571 -0.70866694  0.81192237 -0.17072269]]\n",
      "[[ 0.68223265  0.94874968 -0.38733081 -0.49969736  0.3090353 ]\n",
      " [-0.35851893  1.16488653 -0.45920293 -0.34630569  0.0981618 ]\n",
      " [ 0.24127935  0.21323068  0.05786893 -0.45568732 -0.15039676]\n",
      " [-0.10327487 -0.51592688  0.51179333 -0.04558114 -0.32110807]\n",
      " [-0.21271377  0.77220888 -0.3586892  -0.3393353   0.02604587]\n",
      " [-0.22747128 -0.8345488   0.19340661 -0.24540967  0.32134919]\n",
      " [-0.05154044  0.54420571 -0.70866694  0.81192237 -0.17072269]]\n",
      "[[ 0.00000000e+00 -1.11022302e-16  0.00000000e+00  5.55111512e-17\n",
      "   0.00000000e+00]\n",
      " [ 0.00000000e+00  0.00000000e+00  5.55111512e-17  0.00000000e+00\n",
      "  -1.38777878e-17]\n",
      " [-2.77555756e-17  0.00000000e+00 -6.93889390e-18 -5.55111512e-17\n",
      "   0.00000000e+00]\n",
      " [-1.38777878e-17  1.11022302e-16  0.00000000e+00  6.93889390e-18\n",
      "   5.55111512e-17]\n",
      " [ 2.77555756e-17  0.00000000e+00  0.00000000e+00  0.00000000e+00\n",
      "   0.00000000e+00]\n",
      " [ 0.00000000e+00 -1.11022302e-16 -2.77555756e-17 -2.77555756e-17\n",
      "  -5.55111512e-17]\n",
      " [ 6.93889390e-18  0.00000000e+00  0.00000000e+00  0.00000000e+00\n",
      "  -2.77555756e-17]]\n"
     ]
    }
   ],
   "source": [
    "### Matrix Multiplication is distributive and a linear operation ###\n",
    "\n",
    "# matrix row and col sizes\n",
    "m = 7\n",
    "n = 5\n",
    "\n",
    "A = np.random.randn(m,n)\n",
    "B = np.random.randn(m,n)\n",
    "\n",
    "# scalar\n",
    "s = np.random.randn()\n",
    "\n",
    "# Multiply scalar by the sum of Matrices A and B and the scalar by A and B separately\n",
    "resL = s * (A+B)\n",
    "resR = s*A + s*B \n",
    "\n",
    "print(resL)\n",
    "print(resR)\n",
    "\n",
    "# The two results should equal out to zero difference showing they are the same and this operation is distributive\n",
    "print(resL - resR) # This is effectively a zero matrix. Due to rounding errors the numbers may be very small and close to zero"
   ]
  }
 ],
 "metadata": {
  "kernelspec": {
   "display_name": "pytorch2023",
   "language": "python",
   "name": "python3"
  },
  "language_info": {
   "codemirror_mode": {
    "name": "ipython",
    "version": 3
   },
   "file_extension": ".py",
   "mimetype": "text/x-python",
   "name": "python",
   "nbconvert_exporter": "python",
   "pygments_lexer": "ipython3",
   "version": "3.10.13"
  }
 },
 "nbformat": 4,
 "nbformat_minor": 2
}
