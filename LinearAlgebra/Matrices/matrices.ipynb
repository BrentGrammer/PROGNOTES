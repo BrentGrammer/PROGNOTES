{
 "cells": [
  {
   "cell_type": "code",
   "execution_count": 7,
   "metadata": {},
   "outputs": [
    {
     "name": "stdout",
     "output_type": "stream",
     "text": [
      "[[-0.87585919  0.77849566 -1.1729058   0.94336384 -0.94574489 -1.11808526]\n",
      " [ 1.06576489 -1.48132181  0.97398098 -0.26239323  0.0817127   0.61200773]\n",
      " [-1.06486786  0.72942922  1.01294234  1.2620276  -1.27460921 -0.91406858]]\n"
     ]
    }
   ],
   "source": [
    "######### MATRICES #############\n",
    "\n",
    "import numpy as np\n",
    "\n",
    "\n",
    "#### Contructing different types of Matrices ####\n",
    "\n",
    "# square matrix\n",
    "S = np.random.randn(5,5) # pass in rows and cols\n",
    "\n",
    "# rectangular matrix\n",
    "R = np.random.randn(5,2) # 5 rows, 2 cols\n",
    "\n",
    "# Identity Matrix\n",
    "I = np.eye(3) # just need single number for rows/cols - Identity matrix is always square\n",
    "\n",
    "# zeros matrix\n",
    "Z = np.zeros((4,4)) # first arg is size (use a tuple), second input is data type\n",
    "# ex: complex type matrix with all 0s\n",
    "CZ = np.zeros((4,4), dtype='complex')\n",
    "\n",
    "# diagonal matrix\n",
    "D = np.diag([1,2,3,4,5]) # pass in a list or numpy array and those numbers are used as the diagonal\n",
    "\n",
    "# Triangular Matrix\n",
    "# create a full matrix first\n",
    "S = np.random.randn(5,5)\n",
    "U = np.triu(S) # extract the upper triangular matrix\n",
    "L = np.tril(S) # extract the lower triangular matrix\n",
    "\n",
    "# Concatenate Matrices\n",
    "A = np.random.randn(3,2)\n",
    "B = np.random.randn(3,4) # rows must match\n",
    "C = np.concatenate((A,B), axis=1)"
   ]
  }
 ],
 "metadata": {
  "kernelspec": {
   "display_name": "pytorch2023",
   "language": "python",
   "name": "python3"
  },
  "language_info": {
   "codemirror_mode": {
    "name": "ipython",
    "version": 3
   },
   "file_extension": ".py",
   "mimetype": "text/x-python",
   "name": "python",
   "nbconvert_exporter": "python",
   "pygments_lexer": "ipython3",
   "version": "3.10.13"
  }
 },
 "nbformat": 4,
 "nbformat_minor": 2
}
