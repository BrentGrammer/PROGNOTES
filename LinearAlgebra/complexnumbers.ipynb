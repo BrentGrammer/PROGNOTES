{
 "cells": [
  {
   "cell_type": "code",
   "execution_count": null,
   "metadata": {},
   "outputs": [
    {
     "name": "stdout",
     "output_type": "stream",
     "text": [
      "(3+4j)\n",
      "5.0\n",
      "(-7+24j)\n",
      "(25+0j)\n",
      "Original Vector untransposed: [3.+0.j 0.+4.j 5.+2.j 2.-5.j]\n",
      "[3.+0.j 0.+4.j 5.+2.j 2.-5.j]\n",
      "[3.+0.j 0.+4.j 5.+2.j 2.-5.j]\n",
      "[3.-0.j 0.-4.j 5.-2.j 2.+5.j]\n"
     ]
    }
   ],
   "source": [
    "################ COMPLEX NUMBERS #####################\n",
    "import numpy as np\n",
    "import matplotlib.pyplot as plt\n",
    "\n",
    "# Creating a complex number:\n",
    "z = complex(3,4) # real and imaginary parts as input\n",
    "print(z)\n",
    "\n",
    "# getting the norm or magnitude of a vector that is a complex number\n",
    "print(np.linalg.norm(z)) # 5 - having 3 and 4 as the vector points makes a pythagorean triplet (3,4,5) - one side is 3, one side is 4, the hypotenuse must be 5...\n",
    "\n",
    "# see what numpy transpose does with the complex number times itself (the beginning part of computing vector length):\n",
    "print(np.transpose(z)*z) # instead of 5^2 (25) we get -7+24j because this does not apply the Hermitian Transpose\n",
    "\n",
    "### Hermitian Transpose\n",
    "\n",
    "# first apply the conjugate of z, then use np.transpose on that, and multiply that by z\n",
    "print(np.transpose(z.conjugate())*z) # 25+0j or just 25\n",
    "\n",
    "\n",
    "### Create a Complex Vector\n",
    "\n",
    "# use a numpy array with a real, imaginary and complex numbers for ex:\n",
    "v = np.array([ 3, 4j, 5+2j, complex(2,-5) ])\n",
    "\n",
    "# Transpose the Vector in 3 different ways:\n",
    "print(f'Original Vector untransposed: {v}')\n",
    "print(v.T) # does the same thing as np.transpose(), just shorter\n",
    "print(np.transpose(v)) # same as above\n",
    "\n",
    "# conjugate the vector and transpose that:\n",
    "print( np.transpose(v.conjugate()) ) # will show the real parts as same, but the sign for imaginary parts is flipped for each element \n",
    "\n",
    "\n",
    "#### Takeaway ####\n",
    "# Make sure you are using Hermitian Transpose (with the conjugate as shown above) when working with complex numbers when you need to."
   ]
  }
 ],
 "metadata": {
  "kernelspec": {
   "display_name": "pytorch2023",
   "language": "python",
   "name": "python3"
  },
  "language_info": {
   "codemirror_mode": {
    "name": "ipython",
    "version": 3
   },
   "file_extension": ".py",
   "mimetype": "text/x-python",
   "name": "python",
   "nbconvert_exporter": "python",
   "pygments_lexer": "ipython3",
   "version": "3.10.13"
  }
 },
 "nbformat": 4,
 "nbformat_minor": 2
}
